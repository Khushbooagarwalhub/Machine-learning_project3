{
 "cells": [
  {
   "cell_type": "markdown",
   "metadata": {},
   "source": [
    "## Preliminaries\n",
    "Split image dataset into training and testing segments"
   ]
  },
  {
   "cell_type": "code",
   "execution_count": 6,
   "metadata": {},
   "outputs": [],
   "source": [
    "from shutil import copyfile\n",
    "import pandas as pd\n",
    "import numpy as np\n",
    "import os\n",
    "\n",
    "from sklearn.model_selection import train_test_split"
   ]
  },
  {
   "cell_type": "markdown",
   "metadata": {},
   "source": [
    "## Data Processing"
   ]
  },
  {
   "cell_type": "markdown",
   "metadata": {},
   "source": [
    "Choose ten action classes from the total 40 and split the resulting dataset into training and testing segments."
   ]
  },
  {
   "cell_type": "code",
   "execution_count": 7,
   "metadata": {},
   "outputs": [],
   "source": [
    "# Read in csv with image info\n",
    "images_info = pd.read_csv(\"../Resources/image_info.csv\")"
   ]
  },
  {
   "cell_type": "code",
   "execution_count": 8,
   "metadata": {},
   "outputs": [],
   "source": [
    "# Build list of ten action classes\n",
    "actions_df = pd.DataFrame(images_info.groupby(['Action']).count())\n",
    "actions_df = actions_df.sort_values('Filename', ascending=False)\n",
    "actions_list = actions_df['Filename'].index.values[0:10]"
   ]
  },
  {
   "cell_type": "code",
   "execution_count": 9,
   "metadata": {},
   "outputs": [],
   "source": [
    "# Train and test split\n",
    "X = images_info['Filename'].values\n",
    "y = images_info['Action ID'].values\n",
    "\n",
    "X_train_n, X_test_n, y_train, y_test = train_test_split(X, y, test_size=0.2, random_state=42)"
   ]
  },
  {
   "cell_type": "markdown",
   "metadata": {},
   "source": [
    "The following function copies images from the main directory into training and testing directories"
   ]
  },
  {
   "cell_type": "code",
   "execution_count": null,
   "metadata": {},
   "outputs": [],
   "source": [
    "def copy_images_to_dir(i_df, X_tr, X_te, a_list, num_actions):\n",
    "\n",
    "    X_train = []\n",
    "    X_test = []\n",
    "\n",
    "    for index, row in i_df.iterrows():\n",
    "        \n",
    "        if row['Action'] in a_list: \n",
    "            # Load image\n",
    "            img_name = row['Filename']\n",
    "            img_path = f\"../Resources/new/{img_name}\"\n",
    "\n",
    "            # Directory to save images \n",
    "            base_path = f\"../Output/train_test_split/{num_actions}/images\"\n",
    "\n",
    "            # If image is a training sample, copy to training folder\n",
    "            if img_name in X_tr.tolist():\n",
    "                X_train.append(img_name)\n",
    "                des_path = f\"{base_path}/train/{row['Action']}\"\n",
    "                des = f\"{des_path}/{img_name}\"\n",
    "\n",
    "                try:\n",
    "                    os.mkdir(des_path)\n",
    "                except OSError:\n",
    "                    pass\n",
    "\n",
    "            # If image is a testing sample, copy to testing folder\n",
    "            if img_name in X_te.tolist():\n",
    "                X_test.append(img_name)\n",
    "                des_path = f\"{base_path}/test/{row['Action']}\"\n",
    "                des = f\"{des_path}/{img_name}\"\n",
    "\n",
    "                try:\n",
    "                    os.mkdir(des_path)\n",
    "                except OSError:\n",
    "                    pass\n",
    "\n",
    "            copyfile(img_path, des)\n",
    "        \n",
    "    # Keep a record of training and testing images\n",
    "    training_df = pd.DataFrame({\"Filename\": X_train})\n",
    "    testing_df = pd.DataFrame({\"Filename\": X_test})\n",
    "        \n",
    "    training_df.to_csv(f\"../Output/train_test_split/{num_actions}/training_set.csv\")\n",
    "    testing_df.to_csv(f\"../Output/train_test_split/{num_actions}/testing_set.csv\")"
   ]
  },
  {
   "cell_type": "markdown",
   "metadata": {},
   "source": [
    "## Function call"
   ]
  },
  {
   "cell_type": "code",
   "execution_count": null,
   "metadata": {},
   "outputs": [],
   "source": [
    "copy_images_to_dir(images_info, X_train_n, X_test_n, actions_list, \"ten\")"
   ]
  }
 ],
 "metadata": {
  "kernelspec": {
   "display_name": "Python 3",
   "language": "python",
   "name": "python3"
  },
  "language_info": {
   "codemirror_mode": {
    "name": "ipython",
    "version": 3
   },
   "file_extension": ".py",
   "mimetype": "text/x-python",
   "name": "python",
   "nbconvert_exporter": "python",
   "pygments_lexer": "ipython3",
   "version": "3.7.4"
  }
 },
 "nbformat": 4,
 "nbformat_minor": 2
}

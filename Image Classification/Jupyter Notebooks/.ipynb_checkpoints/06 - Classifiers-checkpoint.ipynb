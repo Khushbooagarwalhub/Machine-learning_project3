{
 "cells": [
  {
   "cell_type": "markdown",
   "metadata": {},
   "source": [
    "## Preliminaries\n",
    "Import Relevant Libraries"
   ]
  },
  {
   "cell_type": "markdown",
   "metadata": {},
   "source": [
    "**Libraries for Machine Learning**"
   ]
  },
  {
   "cell_type": "code",
   "execution_count": null,
   "metadata": {},
   "outputs": [],
   "source": [
    "from tensorflow.keras.utils import to_categorical\n",
    "from sklearn.linear_model import LogisticRegression\n",
    "from sklearn.svm import SVC\n",
    "from sklearn.ensemble import RandomForestClassifier\n",
    "\n",
    "import joblib"
   ]
  },
  {
   "cell_type": "markdown",
   "metadata": {},
   "source": [
    "**Other Libraries**"
   ]
  },
  {
   "cell_type": "code",
   "execution_count": null,
   "metadata": {},
   "outputs": [],
   "source": [
    "import matplotlib.pyplot as plt\n",
    "import pandas as pd\n",
    "import numpy as np\n",
    "import time"
   ]
  },
  {
   "cell_type": "markdown",
   "metadata": {},
   "source": [
    "## Import CSVs"
   ]
  },
  {
   "cell_type": "code",
   "execution_count": null,
   "metadata": {},
   "outputs": [],
   "source": [
    "train_features_file = \"../Output/image_features/ten/train_features.csv\"\n",
    "train_labels_file = \"../Output/image_features/ten/train_labels.csv\"\n",
    "\n",
    "test_features_file = \"../Output/image_features/ten/test_features.csv\"\n",
    "test_labels_file = \"../Output/image_features/ten/test_labels.csv\""
   ]
  },
  {
   "cell_type": "code",
   "execution_count": null,
   "metadata": {},
   "outputs": [],
   "source": [
    "train_features_df = pd.read_csv(train_features_file)\n",
    "print(\"Imported training features\")\n",
    "train_labels_df = pd.read_csv(train_labels_file)\n",
    "\n",
    "test_features_df = pd.read_csv(test_features_file)\n",
    "print(\"Imported testing features\")\n",
    "test_labels_df = pd.read_csv(test_labels_file)\n",
    "\n",
    "del train_features_df['Unnamed: 0']\n",
    "del train_labels_df['Unnamed: 0']\n",
    "\n",
    "del test_features_df['Unnamed: 0']\n",
    "del test_labels_df['Unnamed: 0']"
   ]
  },
  {
   "cell_type": "markdown",
   "metadata": {},
   "source": [
    "## Data Prep\n",
    "Transform imported data into form suitable for classifier model training and testing."
   ]
  },
  {
   "cell_type": "code",
   "execution_count": null,
   "metadata": {},
   "outputs": [],
   "source": [
    "train_features = train_features_df.values\n",
    "train_labels = train_labels_df['Class'].values\n",
    "\n",
    "test_features = test_features_df.values\n",
    "test_labels = test_labels_df['Class'].values"
   ]
  },
  {
   "cell_type": "markdown",
   "metadata": {},
   "source": [
    "## Classifiers\n",
    "Logisitic Regression, Random Forest, Support Vector Machine"
   ]
  },
  {
   "cell_type": "markdown",
   "metadata": {},
   "source": [
    "Initialize Models"
   ]
  },
  {
   "cell_type": "code",
   "execution_count": null,
   "metadata": {},
   "outputs": [],
   "source": [
    "lr = LogisticRegression(solver='lbfgs', multi_class='auto', max_iter=600)\n",
    "rfc = RandomForestClassifier(n_estimators=200, n_jobs=-1)\n",
    "svm = SVC(gamma='scale')"
   ]
  },
  {
   "cell_type": "markdown",
   "metadata": {},
   "source": [
    "Train models"
   ]
  },
  {
   "cell_type": "code",
   "execution_count": null,
   "metadata": {},
   "outputs": [],
   "source": [
    "start_lr = time.time()\n",
    "_ = lr.fit(train_features, train_labels)\n",
    "end_lr = time.time()"
   ]
  },
  {
   "cell_type": "code",
   "execution_count": null,
   "metadata": {},
   "outputs": [],
   "source": [
    "start_rfc = time.time()\n",
    "rfc = rfc.fit(train_features, train_labels)\n",
    "end_rfc = time.time()"
   ]
  },
  {
   "cell_type": "code",
   "execution_count": null,
   "metadata": {},
   "outputs": [],
   "source": [
    "start_svm = time.time()\n",
    "_ = svm.fit(train_features, train_labels)\n",
    "end_svm = time.time()"
   ]
  },
  {
   "cell_type": "code",
   "execution_count": null,
   "metadata": {},
   "outputs": [],
   "source": [
    "lr.score(test_features, test_labels)"
   ]
  },
  {
   "cell_type": "markdown",
   "metadata": {},
   "source": [
    "Save Models"
   ]
  },
  {
   "cell_type": "code",
   "execution_count": null,
   "metadata": {},
   "outputs": [],
   "source": [
    "save_model_path = \"../Output/models/ten/LR.sav\"\n",
    "_ = joblib.dump(lr, save_model_path)"
   ]
  },
  {
   "cell_type": "code",
   "execution_count": null,
   "metadata": {},
   "outputs": [],
   "source": [
    "save_model_path = \"../Output/models/ten/RFC.sav\"\n",
    "_ = joblib.dump(rfc, save_model_path)"
   ]
  },
  {
   "cell_type": "code",
   "execution_count": null,
   "metadata": {},
   "outputs": [],
   "source": [
    "save_model_path = \"../Output//models/ten/SVM.sav\"\n",
    "_ = joblib.dump(svm, save_model_path)"
   ]
  },
  {
   "cell_type": "markdown",
   "metadata": {},
   "source": [
    "## Save Model Evaluation to CSV\n",
    "Examine training and testing scores as well as training time"
   ]
  },
  {
   "cell_type": "code",
   "execution_count": null,
   "metadata": {},
   "outputs": [],
   "source": [
    "def save_model_eval(model, start, end, name):\n",
    "    file = \"../Output/feature_extraction/classifiers_eval_2nd.csv\"\n",
    "    model_eval = pd.read_csv(file)\n",
    "\n",
    "    try:\n",
    "        del model_eval['Unnamed: 0']\n",
    "    except KeyError:\n",
    "        pass\n",
    "\n",
    "    train_score =  model.score(train_features, train_labels)\n",
    "    test_score = model.score(test_features, test_labels)\n",
    "\n",
    "    row = pd.DataFrame({\"Name\": name,\n",
    "                        \"Training Score\": round(train_score, 3),\n",
    "                        \"Testing Score\": round(test_score, 3),\n",
    "                        \"Training Time\": round((end-start), 3),\n",
    "                       }, index=[model_eval.shape[0]])\n",
    "\n",
    "    model_eval = model_eval.append(row, sort=False)\n",
    "    model_eval.to_csv(file)"
   ]
  },
  {
   "cell_type": "code",
   "execution_count": null,
   "metadata": {},
   "outputs": [],
   "source": [
    "save_model_eval(lr, start_lr, end_lr, \"Logistic Regression\")"
   ]
  },
  {
   "cell_type": "code",
   "execution_count": null,
   "metadata": {},
   "outputs": [],
   "source": [
    "save_model_eval(rfc, start_rfc, end_rfc, \"Random Forest\")"
   ]
  },
  {
   "cell_type": "code",
   "execution_count": null,
   "metadata": {},
   "outputs": [],
   "source": [
    "save_model_eval(svm, start_svm, end_svm, \"Support Vector Machine\")"
   ]
  },
  {
   "cell_type": "code",
   "execution_count": null,
   "metadata": {},
   "outputs": [],
   "source": []
  }
 ],
 "metadata": {
  "kernelspec": {
   "display_name": "Python 3",
   "language": "python",
   "name": "python3"
  },
  "language_info": {
   "codemirror_mode": {
    "name": "ipython",
    "version": 3
   },
   "file_extension": ".py",
   "mimetype": "text/x-python",
   "name": "python",
   "nbconvert_exporter": "python",
   "pygments_lexer": "ipython3",
   "version": "3.7.4"
  }
 },
 "nbformat": 4,
 "nbformat_minor": 2
}

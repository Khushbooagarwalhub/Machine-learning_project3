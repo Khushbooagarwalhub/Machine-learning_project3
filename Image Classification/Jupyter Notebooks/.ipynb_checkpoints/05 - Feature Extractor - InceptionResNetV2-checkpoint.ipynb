{
 "cells": [
  {
   "cell_type": "markdown",
   "metadata": {},
   "source": [
    "## Preliminaries\n",
    "Import Relevant Libraries"
   ]
  },
  {
   "cell_type": "markdown",
   "metadata": {},
   "source": [
    "**Libraries for Machine Learning**"
   ]
  },
  {
   "cell_type": "code",
   "execution_count": 1,
   "metadata": {},
   "outputs": [],
   "source": [
    "from tensorflow.keras.applications import inception_resnet_v2\n",
    "\n",
    "from tensorflow.keras.preprocessing.image import load_img, img_to_array\n",
    "from tensorflow.keras.preprocessing.image import ImageDataGenerator"
   ]
  },
  {
   "cell_type": "markdown",
   "metadata": {},
   "source": [
    "**Other Libraries**"
   ]
  },
  {
   "cell_type": "code",
   "execution_count": 2,
   "metadata": {},
   "outputs": [],
   "source": [
    "import pandas as pd\n",
    "import numpy as np"
   ]
  },
  {
   "cell_type": "code",
   "execution_count": 3,
   "metadata": {},
   "outputs": [],
   "source": [
    "import feature_extraction_functions as fef"
   ]
  },
  {
   "cell_type": "markdown",
   "metadata": {},
   "source": [
    "## Generate Data\n",
    "Using ImageDataGenerator"
   ]
  },
  {
   "cell_type": "code",
   "execution_count": 4,
   "metadata": {},
   "outputs": [],
   "source": [
    "train_dir = \"../Output/train_test_split/ten/images/train\"\n",
    "test_dir = \"../Output/train_test_split/ten/images/test\"\n",
    "\n",
    "datagen = ImageDataGenerator(rescale=1./255)\n",
    "train_datagen = ImageDataGenerator(\n",
    "    rescale = 1./255,\n",
    "    rotation_range=20,\n",
    "    width_shift_range=0.2,\n",
    "    height_shift_range=0.2,\n",
    "    horizontal_flip=True,\n",
    "    zoom_range=0.15,\n",
    "    shear_range=0.15,\n",
    "    fill_mode='nearest'\n",
    ")\n",
    "test_datagen = ImageDataGenerator(rescale = 1./255)"
   ]
  },
  {
   "cell_type": "code",
   "execution_count": 5,
   "metadata": {},
   "outputs": [
    {
     "name": "stdout",
     "output_type": "stream",
     "text": [
      "Found 2296 images belonging to 10 classes.\n"
     ]
    }
   ],
   "source": [
    "train_generator = train_datagen.flow_from_directory(\n",
    "    train_dir,\n",
    "    target_size=(224, 224),\n",
    "    batch_size=1,\n",
    "    class_mode='categorical',\n",
    "    shuffle=True,\n",
    "    seed=42\n",
    ")"
   ]
  },
  {
   "cell_type": "code",
   "execution_count": 6,
   "metadata": {},
   "outputs": [
    {
     "name": "stdout",
     "output_type": "stream",
     "text": [
      "Found 616 images belonging to 10 classes.\n"
     ]
    }
   ],
   "source": [
    "test_generator = test_datagen.flow_from_directory(\n",
    "    test_dir,\n",
    "    target_size=(224, 224),\n",
    "    batch_size=1,\n",
    "    class_mode='categorical',\n",
    "    shuffle=True,\n",
    "    seed=42\n",
    ")"
   ]
  },
  {
   "cell_type": "markdown",
   "metadata": {},
   "source": [
    "Keep a record of classes and the indices they map to."
   ]
  },
  {
   "cell_type": "code",
   "execution_count": 19,
   "metadata": {},
   "outputs": [],
   "source": [
    "file = \"../Output/image_features/ten/class_indices.csv\"\n",
    "class_idx = {\n",
    "    \"ID\": [],\n",
    "    \"Class\": []\n",
    "}\n",
    "for key, value in train_generator.class_indices.items():\n",
    "    action_list = key.split(\"_\")\n",
    "    action = \" \".join(action_list[:-1])\n",
    "    \n",
    "    class_idx['ID'].append(value)\n",
    "    class_idx['Class'].append(action)\n",
    "    \n",
    "class_idx_df = pd.DataFrame(class_idx)\n",
    "class_idx_df.to_csv(file)"
   ]
  },
  {
   "cell_type": "markdown",
   "metadata": {},
   "source": [
    "## Feature Extraction\n",
    "Extract relevant features using InceptionResNetV2"
   ]
  },
  {
   "cell_type": "code",
   "execution_count": 7,
   "metadata": {},
   "outputs": [],
   "source": [
    "inception = inception_resnet_v2.InceptionResNetV2(weights='imagenet', include_top=False, input_shape=(224, 224, 3))"
   ]
  },
  {
   "cell_type": "markdown",
   "metadata": {},
   "source": [
    "**Get training features and labels**"
   ]
  },
  {
   "cell_type": "code",
   "execution_count": 8,
   "metadata": {},
   "outputs": [
    {
     "name": "stdout",
     "output_type": "stream",
     "text": [
      "Processed batch ---- 0/2296\n",
      "Processed batch ---- 50/2296\n",
      "Processed batch ---- 100/2296\n",
      "Processed batch ---- 150/2296\n",
      "Processed batch ---- 200/2296\n",
      "Processed batch ---- 250/2296\n",
      "Processed batch ---- 300/2296\n",
      "Processed batch ---- 350/2296\n",
      "Processed batch ---- 400/2296\n",
      "Processed batch ---- 450/2296\n",
      "Processed batch ---- 500/2296\n",
      "Processed batch ---- 550/2296\n",
      "Processed batch ---- 600/2296\n",
      "Processed batch ---- 650/2296\n",
      "Processed batch ---- 700/2296\n",
      "Processed batch ---- 750/2296\n",
      "Processed batch ---- 800/2296\n",
      "Processed batch ---- 850/2296\n",
      "Processed batch ---- 900/2296\n",
      "Processed batch ---- 950/2296\n",
      "Processed batch ---- 1000/2296\n",
      "Processed batch ---- 1050/2296\n",
      "Processed batch ---- 1100/2296\n",
      "Processed batch ---- 1150/2296\n",
      "Processed batch ---- 1200/2296\n",
      "Processed batch ---- 1250/2296\n",
      "Processed batch ---- 1300/2296\n",
      "Processed batch ---- 1350/2296\n",
      "Processed batch ---- 1400/2296\n",
      "Processed batch ---- 1450/2296\n",
      "Processed batch ---- 1500/2296\n",
      "Processed batch ---- 1550/2296\n",
      "Processed batch ---- 1600/2296\n",
      "Processed batch ---- 1650/2296\n",
      "Processed batch ---- 1700/2296\n",
      "Processed batch ---- 1750/2296\n",
      "Processed batch ---- 1800/2296\n",
      "Processed batch ---- 1850/2296\n",
      "Processed batch ---- 1900/2296\n",
      "Processed batch ---- 1950/2296\n",
      "Processed batch ---- 2000/2296\n",
      "Processed batch ---- 2050/2296\n",
      "Processed batch ---- 2100/2296\n",
      "Processed batch ---- 2150/2296\n",
      "Processed batch ---- 2200/2296\n",
      "Processed batch ---- 2250/2296\n",
      "Completed Processing\n"
     ]
    }
   ],
   "source": [
    "train_features_labels = fef.feature_extraction(inception, train_generator, 1)"
   ]
  },
  {
   "cell_type": "markdown",
   "metadata": {},
   "source": [
    "**Get testing features and labels**"
   ]
  },
  {
   "cell_type": "code",
   "execution_count": 9,
   "metadata": {},
   "outputs": [
    {
     "name": "stdout",
     "output_type": "stream",
     "text": [
      "Processed batch ---- 0/616\n",
      "Processed batch ---- 50/616\n",
      "Processed batch ---- 100/616\n",
      "Processed batch ---- 150/616\n",
      "Processed batch ---- 200/616\n",
      "Processed batch ---- 250/616\n",
      "Processed batch ---- 300/616\n",
      "Processed batch ---- 350/616\n",
      "Processed batch ---- 400/616\n",
      "Processed batch ---- 450/616\n",
      "Processed batch ---- 500/616\n",
      "Processed batch ---- 550/616\n",
      "Processed batch ---- 600/616\n",
      "Completed Processing\n"
     ]
    }
   ],
   "source": [
    "test_features_labels = fef.feature_extraction(inception, test_generator, 1)"
   ]
  },
  {
   "cell_type": "markdown",
   "metadata": {},
   "source": [
    "## Export Features and Labels"
   ]
  },
  {
   "cell_type": "markdown",
   "metadata": {},
   "source": [
    "**File paths**"
   ]
  },
  {
   "cell_type": "code",
   "execution_count": 10,
   "metadata": {},
   "outputs": [],
   "source": [
    "train_features_file = \"../Output/image_features/ten/train_features.csv\"\n",
    "test_features_file = \"../Output/image_features/ten/test_features.csv\"\n",
    "train_labels_file = \"../Output/image_features/ten/train_labels.csv\"\n",
    "test_labels_file = \"../Output/image_features/ten/test_labels.csv\""
   ]
  },
  {
   "cell_type": "markdown",
   "metadata": {},
   "source": [
    "**Save training features and labels**"
   ]
  },
  {
   "cell_type": "code",
   "execution_count": 11,
   "metadata": {},
   "outputs": [
    {
     "name": "stdout",
     "output_type": "stream",
     "text": [
      "Processing Features\n",
      "-------------------\n",
      "Processed Row ---- 0 of 2296\n",
      "Processed Row ---- 100 of 2296\n",
      "Processed Row ---- 200 of 2296\n",
      "Processed Row ---- 300 of 2296\n",
      "Processed Row ---- 400 of 2296\n",
      "Processed Row ---- 500 of 2296\n",
      "Processed Row ---- 600 of 2296\n",
      "Processed Row ---- 700 of 2296\n",
      "Processed Row ---- 800 of 2296\n",
      "Processed Row ---- 900 of 2296\n",
      "Processed Row ---- 1000 of 2296\n",
      "Processed Row ---- 1100 of 2296\n",
      "Processed Row ---- 1200 of 2296\n",
      "Processed Row ---- 1300 of 2296\n",
      "Processed Row ---- 1400 of 2296\n",
      "Processed Row ---- 1500 of 2296\n",
      "Processed Row ---- 1600 of 2296\n",
      "Processed Row ---- 1700 of 2296\n",
      "Processed Row ---- 1800 of 2296\n",
      "Processed Row ---- 1900 of 2296\n",
      "Processed Row ---- 2000 of 2296\n",
      "Processed Row ---- 2100 of 2296\n",
      "Processed Row ---- 2200 of 2296\n",
      "Complete\n",
      "\n",
      "Processing Labels\n",
      "-----------------\n",
      "Complete\n"
     ]
    }
   ],
   "source": [
    "fef.features_labels_to_csv(\n",
    "    train_features_labels['Features'], \n",
    "    train_features_labels['Labels'],\n",
    "    train_features_file,\n",
    "    train_labels_file\n",
    ")"
   ]
  },
  {
   "cell_type": "markdown",
   "metadata": {},
   "source": [
    "**Save testing features and labels**"
   ]
  },
  {
   "cell_type": "code",
   "execution_count": 12,
   "metadata": {},
   "outputs": [
    {
     "name": "stdout",
     "output_type": "stream",
     "text": [
      "Processing Features\n",
      "-------------------\n",
      "Processed Row ---- 0 of 616\n",
      "Processed Row ---- 100 of 616\n",
      "Processed Row ---- 200 of 616\n",
      "Processed Row ---- 300 of 616\n",
      "Processed Row ---- 400 of 616\n",
      "Processed Row ---- 500 of 616\n",
      "Processed Row ---- 600 of 616\n",
      "Complete\n",
      "\n",
      "Processing Labels\n",
      "-----------------\n",
      "Complete\n"
     ]
    }
   ],
   "source": [
    "fef.features_labels_to_csv(\n",
    "    test_features_labels['Features'], \n",
    "    test_features_labels['Labels'],\n",
    "    test_features_file,\n",
    "    test_labels_file\n",
    ")"
   ]
  },
  {
   "cell_type": "code",
   "execution_count": null,
   "metadata": {},
   "outputs": [],
   "source": []
  }
 ],
 "metadata": {
  "kernelspec": {
   "display_name": "Python 3",
   "language": "python",
   "name": "python3"
  },
  "language_info": {
   "codemirror_mode": {
    "name": "ipython",
    "version": 3
   },
   "file_extension": ".py",
   "mimetype": "text/x-python",
   "name": "python",
   "nbconvert_exporter": "python",
   "pygments_lexer": "ipython3",
   "version": "3.7.4"
  }
 },
 "nbformat": 4,
 "nbformat_minor": 2
}
